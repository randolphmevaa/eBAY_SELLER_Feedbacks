{
 "cells": [
  {
   "cell_type": "markdown",
   "id": "0d0f1b71",
   "metadata": {},
   "source": [
    "## Data Collection"
   ]
  },
  {
   "cell_type": "markdown",
   "id": "562fcd13",
   "metadata": {},
   "source": [
    "Here we are extracting feedbacks coming from an eBay profile using \"Requests\"."
   ]
  },
  {
   "cell_type": "code",
   "execution_count": 1,
   "id": "2ae3c9a8",
   "metadata": {},
   "outputs": [],
   "source": [
    "import requests\n",
    "import pandas as pd\n",
    "import json"
   ]
  },
  {
   "cell_type": "code",
   "execution_count": 2,
   "id": "30456357",
   "metadata": {},
   "outputs": [],
   "source": [
    "# ORIGINAL URL:https://www.ebay.ca/fdbk/feedback_profile/chord-91?q=125071219021&_trksid=p2047675.l2560"
   ]
  },
  {
   "cell_type": "markdown",
   "id": "6523c8d5",
   "metadata": {},
   "source": [
    "Let's use three urls as there is only 25 reviews per pages."
   ]
  },
  {
   "cell_type": "code",
   "execution_count": 3,
   "id": "7b275628",
   "metadata": {},
   "outputs": [],
   "source": [
    "url1 = 'https://www.ebay.ca/fdbk/update_feedback_profile?url=username%3Dchord-91%26filter%3Dfeedback_page%253AAll%252Cperiod%253ATWELVE_MONTHS%252Coverall_rating%253AAll%26page_id%3D1%26limit%3D200&module=%3Fmodules%3DFEEDBACK_SUMMARY'\n",
    "url2 = 'https://www.ebay.ca/fdbk/update_feedback_profile?url=username%3Dchord-91%26filter%3Dfeedback_page%253AAll%252Cperiod%253ATWELVE_MONTHS%252Coverall_rating%253AAll%26page_id%3D2%26limit%3D200&module=%3Fmodules%3DFEEDBACK_SUMMARY'\n",
    "url3 = 'https://www.ebay.ca/fdbk/update_feedback_profile?url=username%3Dchord-91%26filter%3Dfeedback_page%253AAll%252Cperiod%253ATWELVE_MONTHS%252Coverall_rating%253AAll%26page_id%3D3%26limit%3D200&module=%3Fmodules%3DFEEDBACK_SUMMARY'\n",
    "url4 = 'https://www.ebay.ca/fdbk/update_feedback_profile?url=username%3Dchord-91%26filter%3Dfeedback_page%253AAll%252Cperiod%253ATWELVE_MONTHS%252Coverall_rating%253AAll%26page_id%3D4%26limit%3D200&module=%3Fmodules%3DFEEDBACK_SUMMARY'\n",
    "\n",
    "urls = [url1,url2,url3,url4]\n",
    "\n",
    "cont = []\n",
    "\n",
    "for url in urls:\n",
    "    r = requests.get(url)\n",
    "    c = json.loads(r.content)\n",
    "    cont.append(c)\n"
   ]
  },
  {
   "cell_type": "code",
   "execution_count": 4,
   "id": "288b86c2",
   "metadata": {},
   "outputs": [],
   "source": [
    "list_n = []\n",
    "\n",
    "for i in range(0, len(cont)):\n",
    "    feedbackCards = cont[i]['modules']['FEEDBACK_SUMMARY']['feedbackView']['feedbackCards']\n",
    "    for b in range(0, len(feedbackCards)):\n",
    "        feedbackInfo = feedbackCards[b]['feedbackInfo']\n",
    "        review = pd.DataFrame({'Feedbacks' : [feedbackInfo['comment']['accessibilityText']]})\n",
    "        list_n.append(review)\n",
    "\n",
    "df = pd.concat([*list_n], ignore_index=True)"
   ]
  },
  {
   "cell_type": "markdown",
   "id": "50352cf2",
   "metadata": {},
   "source": [
    "## DataFrame"
   ]
  },
  {
   "cell_type": "markdown",
   "id": "484aa291",
   "metadata": {},
   "source": [
    "Once collected, the data is here seen as a DataFrame"
   ]
  },
  {
   "cell_type": "code",
   "execution_count": 5,
   "id": "04b8f379",
   "metadata": {},
   "outputs": [
    {
     "data": {
      "text/html": [
       "<div>\n",
       "<style scoped>\n",
       "    .dataframe tbody tr th:only-of-type {\n",
       "        vertical-align: middle;\n",
       "    }\n",
       "\n",
       "    .dataframe tbody tr th {\n",
       "        vertical-align: top;\n",
       "    }\n",
       "\n",
       "    .dataframe thead th {\n",
       "        text-align: right;\n",
       "    }\n",
       "</style>\n",
       "<table border=\"1\" class=\"dataframe\">\n",
       "  <thead>\n",
       "    <tr style=\"text-align: right;\">\n",
       "      <th></th>\n",
       "      <th>Feedbacks</th>\n",
       "    </tr>\n",
       "  </thead>\n",
       "  <tbody>\n",
       "    <tr>\n",
       "      <th>0</th>\n",
       "      <td>AAA+++</td>\n",
       "    </tr>\n",
       "    <tr>\n",
       "      <th>1</th>\n",
       "      <td>Okay thanks  A1 super fast</td>\n",
       "    </tr>\n",
       "    <tr>\n",
       "      <th>3</th>\n",
       "      <td>Great service</td>\n",
       "    </tr>\n",
       "    <tr>\n",
       "      <th>4</th>\n",
       "      <td>as described, shipped fast . thanks</td>\n",
       "    </tr>\n",
       "    <tr>\n",
       "      <th>5</th>\n",
       "      <td>will add to my collectiobn..thanks</td>\n",
       "    </tr>\n",
       "    <tr>\n",
       "      <th>...</th>\n",
       "      <td>...</td>\n",
       "    </tr>\n",
       "    <tr>\n",
       "      <th>622</th>\n",
       "      <td>very nice metal shapes and came well packed. T...</td>\n",
       "    </tr>\n",
       "    <tr>\n",
       "      <th>623</th>\n",
       "      <td>Fast shipper, would purchase from again</td>\n",
       "    </tr>\n",
       "    <tr>\n",
       "      <th>624</th>\n",
       "      <td>h/recomend</td>\n",
       "    </tr>\n",
       "    <tr>\n",
       "      <th>625</th>\n",
       "      <td>Excellent</td>\n",
       "    </tr>\n",
       "    <tr>\n",
       "      <th>626</th>\n",
       "      <td>Not the best quality but transaction was smooth</td>\n",
       "    </tr>\n",
       "  </tbody>\n",
       "</table>\n",
       "<p>542 rows × 1 columns</p>\n",
       "</div>"
      ],
      "text/plain": [
       "                                             Feedbacks\n",
       "0                                               AAA+++\n",
       "1                          Okay thanks  A1 super fast \n",
       "3                                        Great service\n",
       "4                  as described, shipped fast . thanks\n",
       "5                   will add to my collectiobn..thanks\n",
       "..                                                 ...\n",
       "622  very nice metal shapes and came well packed. T...\n",
       "623            Fast shipper, would purchase from again\n",
       "624                                         h/recomend\n",
       "625                                         Excellent \n",
       "626    Not the best quality but transaction was smooth\n",
       "\n",
       "[542 rows x 1 columns]"
      ]
     },
     "execution_count": 5,
     "metadata": {},
     "output_type": "execute_result"
    }
   ],
   "source": [
    "df = df.drop_duplicates()\n",
    "df"
   ]
  },
  {
   "cell_type": "markdown",
   "id": "b802f24e",
   "metadata": {},
   "source": [
    "## Data Cleaning"
   ]
  },
  {
   "cell_type": "code",
   "execution_count": 6,
   "id": "7de17666",
   "metadata": {},
   "outputs": [
    {
     "data": {
      "text/plain": [
       "0                                                 aaa+++\n",
       "1                            okay thanks  a1 super fast \n",
       "3                                          great service\n",
       "4                    as described, shipped fast . thanks\n",
       "5                     will add to my collectiobn..thanks\n",
       "                             ...                        \n",
       "622    very nice metal shapes and came well packed. t...\n",
       "623              fast shipper, would purchase from again\n",
       "624                                           h/recomend\n",
       "625                                           excellent \n",
       "626      not the best quality but transaction was smooth\n",
       "Name: Feedbacks, Length: 542, dtype: object"
      ]
     },
     "execution_count": 6,
     "metadata": {},
     "output_type": "execute_result"
    }
   ],
   "source": [
    "df = df['Feedbacks'].astype(str)\n",
    "df.str.lower()"
   ]
  },
  {
   "cell_type": "code",
   "execution_count": 7,
   "id": "b15c8f4b",
   "metadata": {},
   "outputs": [
    {
     "name": "stderr",
     "output_type": "stream",
     "text": [
      "[nltk_data] Downloading package stopwords to\n",
      "[nltk_data]     C:\\Users\\mevaa\\AppData\\Roaming\\nltk_data...\n",
      "[nltk_data]   Package stopwords is already up-to-date!\n"
     ]
    }
   ],
   "source": [
    "import nltk\n",
    "from nltk.corpus import stopwords\n",
    "nltk.download('stopwords')\n",
    "\n",
    "stop = stopwords.words('english')"
   ]
  },
  {
   "cell_type": "code",
   "execution_count": 8,
   "id": "a666d437",
   "metadata": {},
   "outputs": [
    {
     "data": {
      "text/plain": [
       "0                                          aaa+++\n",
       "1                       okay thanks a1 super fast\n",
       "3                                   great service\n",
       "4                described, shipped fast . thanks\n",
       "5                         add collectiobn..thanks\n",
       "                          ...                    \n",
       "622    nice metal shapes came well packed. thanks\n",
       "623                  fast shipper, would purchase\n",
       "624                                    h/recomend\n",
       "625                                     excellent\n",
       "626               best quality transaction smooth\n",
       "Name: Feedbacks, Length: 542, dtype: object"
      ]
     },
     "execution_count": 8,
     "metadata": {},
     "output_type": "execute_result"
    }
   ],
   "source": [
    "df2 = df.str.lower().apply(lambda x: ' '.join(w for w in x.split() if not w in stop))\n",
    "df2"
   ]
  },
  {
   "cell_type": "markdown",
   "id": "91bf6af6",
   "metadata": {},
   "source": [
    "We can now extract the data into a CSV file."
   ]
  },
  {
   "cell_type": "code",
   "execution_count": 9,
   "id": "5b3028b0",
   "metadata": {},
   "outputs": [],
   "source": [
    "df2.to_csv('eBay_Feedbacks.csv')"
   ]
  }
 ],
 "metadata": {
  "kernelspec": {
   "display_name": "Python 3 (ipykernel)",
   "language": "python",
   "name": "python3"
  },
  "language_info": {
   "codemirror_mode": {
    "name": "ipython",
    "version": 3
   },
   "file_extension": ".py",
   "mimetype": "text/x-python",
   "name": "python",
   "nbconvert_exporter": "python",
   "pygments_lexer": "ipython3",
   "version": "3.10.1"
  }
 },
 "nbformat": 4,
 "nbformat_minor": 5
}
